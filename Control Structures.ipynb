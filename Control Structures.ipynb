{
 "cells": [
  {
   "cell_type": "markdown",
   "id": "bd7e529a",
   "metadata": {},
   "source": [
    "# Conditional Statements"
   ]
  },
  {
   "cell_type": "code",
   "execution_count": 6,
   "id": "451b8d5d",
   "metadata": {},
   "outputs": [],
   "source": [
    "#if -> True -> 1 condition\n",
    "#if else => else-> False -> 2 conditions\n",
    "#if elif else -> more than 2 conditions\n",
    "#nested if -> if inside if"
   ]
  },
  {
   "cell_type": "code",
   "execution_count": 8,
   "id": "dba324b1",
   "metadata": {},
   "outputs": [
    {
     "name": "stdout",
     "output_type": "stream",
     "text": [
      "welcome everyone!!\n",
      "Condition is correct...\n",
      "end loop..\n"
     ]
    }
   ],
   "source": [
    "#if\n",
    "\n",
    "print(\"welcome everyone!!\")\n",
    "if 23<90:\n",
    "    print(\"Condition is correct...\")\n",
    "print(\"end loop..\")"
   ]
  },
  {
   "cell_type": "code",
   "execution_count": 9,
   "id": "8ca04031",
   "metadata": {},
   "outputs": [
    {
     "name": "stdout",
     "output_type": "stream",
     "text": [
      "welcome everyone!!\n",
      "condition is not correct so displayed else statement\n",
      "end loop..\n"
     ]
    }
   ],
   "source": [
    "#if else\n",
    "\n",
    "print(\"welcome everyone!!\")\n",
    "if 230<90:\n",
    "    print(\"Condition is correct...\")\n",
    "else:\n",
    "    print(\"condition is not correct so displayed else statement\")\n",
    "print(\"end loop..\")"
   ]
  },
  {
   "cell_type": "code",
   "execution_count": 14,
   "id": "9fef7e47",
   "metadata": {},
   "outputs": [
    {
     "name": "stdout",
     "output_type": "stream",
     "text": [
      "enter n value: 0\n",
      "Negative Integer\n",
      "end loop\n"
     ]
    }
   ],
   "source": [
    "#if elif else\n",
    "\n",
    "#check whether given number is +'ve or -'ve\n",
    "\n",
    "n = int(input(\"enter n value: \")) #0\n",
    "if n == 0: #0==0\n",
    "    print(\"Neutral Integer\")\n",
    "elif n>0: #-45646>0\n",
    "    print(\"Positive Integer\")\n",
    "else:\n",
    "    print(\"Negative Integer\")\n",
    "    \n",
    "print(\"end loop\")"
   ]
  },
  {
   "cell_type": "code",
   "execution_count": 18,
   "id": "57af6b37",
   "metadata": {},
   "outputs": [
    {
     "name": "stdout",
     "output_type": "stream",
     "text": [
      "enter a value: 2\n",
      "enter b value: 4\n",
      "enter c value: 6\n",
      "c having larger number..\n"
     ]
    }
   ],
   "source": [
    "#nested if\n",
    "\n",
    "#display largest number among three numbers\n",
    "\n",
    "a = int(input(\"enter a value: \")) #2\n",
    "b = int(input(\"enter b value: \")) #4\n",
    "c = int(input(\"enter c value: \")) #6\n",
    "\n",
    "if a>b:  #2>4\n",
    "    if a>c: \n",
    "        print(\"a having larger number..\")\n",
    "    else:\n",
    "        print(\"c having larger number..\")\n",
    "elif b>c: #4>6\n",
    "    print(\"b having larger number..\")\n",
    "else:\n",
    "    print(\"c having larger number..\")"
   ]
  },
  {
   "cell_type": "code",
   "execution_count": 20,
   "id": "c1abbab6",
   "metadata": {},
   "outputs": [
    {
     "name": "stdout",
     "output_type": "stream",
     "text": [
      "enter a value: 3\n",
      "enter b value: 2\n",
      "enter c value: 3\n",
      "May have some equal values in variables\n"
     ]
    }
   ],
   "source": [
    "#logical number -> and\n",
    "\n",
    "#display largest number among three numbers\n",
    "\n",
    "a = int(input(\"enter a value: \"))  #3\n",
    "b = int(input(\"enter b value: \"))  #7\n",
    "c = int(input(\"enter c value: \"))  #6\n",
    "\n",
    "if a>b and a>c:  #3>7 and 3>6\n",
    "    print(\"a is having larger value\")\n",
    "elif b>a and b>c: #7>3 and 7>6\n",
    "    print(\"b is having larger value\")\n",
    "elif c>a and c>b:\n",
    "    print(\"c is having larger value\")\n",
    "else:\n",
    "    print(\"May have some equal values in variables\")"
   ]
  },
  {
   "cell_type": "code",
   "execution_count": 1,
   "id": "ea6cf5a5",
   "metadata": {},
   "outputs": [
    {
     "name": "stdout",
     "output_type": "stream",
     "text": [
      "Not Present in that sequence variable\n"
     ]
    }
   ],
   "source": [
    "l = [\"laxmi\",67.89,45,True,\"sai\"]\n",
    "\n",
    "if \"Sai\" in l:\n",
    "    print(\"Present in that sequence variable\")\n",
    "else:\n",
    "    print(\"Not Present in that sequence variable\")"
   ]
  },
  {
   "cell_type": "markdown",
   "id": "a41c5eac",
   "metadata": {},
   "source": [
    "# Iterative Statements"
   ]
  },
  {
   "cell_type": "markdown",
   "id": "54a201a1",
   "metadata": {},
   "source": [
    "- 2 types:\n",
    "         \n",
    "        while\n",
    "        for"
   ]
  },
  {
   "cell_type": "code",
   "execution_count": 2,
   "id": "48756f65",
   "metadata": {},
   "outputs": [
    {
     "name": "stdout",
     "output_type": "stream",
     "text": [
      "Hello-world!!\n",
      "Hello-world!!\n",
      "Hello-world!!\n",
      "Hello-world!!\n",
      "Hello-world!!\n"
     ]
    }
   ],
   "source": [
    "#display \"Hello-world!! for 5 times\"\n",
    "print(\"Hello-world!!\")\n",
    "print(\"Hello-world!!\")\n",
    "print(\"Hello-world!!\")\n",
    "print(\"Hello-world!!\")\n",
    "print(\"Hello-world!!\")"
   ]
  },
  {
   "cell_type": "code",
   "execution_count": 3,
   "id": "ccb9e43f",
   "metadata": {},
   "outputs": [
    {
     "name": "stdout",
     "output_type": "stream",
     "text": [
      "Hello-world!!\n",
      "Hello-world!!\n",
      "Hello-world!!\n",
      "Hello-world!!\n",
      "Hello-world!!\n",
      "Hello-world!!\n",
      "Hello-world!!\n",
      "Hello-world!!\n",
      "Hello-world!!\n",
      "Hello-world!!\n",
      "end loop............\n"
     ]
    }
   ],
   "source": [
    "#display \"Hello-world!! for 10 times\" using \"while\" loop\n",
    "\n",
    "x = 1\n",
    "while x<=10:\n",
    "    print(\"Hello-world!!\")\n",
    "    x = x+1\n",
    "print(\"end loop............\")"
   ]
  },
  {
   "cell_type": "code",
   "execution_count": 4,
   "id": "a6cc74cb",
   "metadata": {},
   "outputs": [
    {
     "name": "stdout",
     "output_type": "stream",
     "text": [
      "1 2 3 4 5 6 7 8 9 10 \n",
      "end loop...\n"
     ]
    }
   ],
   "source": [
    "#display integers from 1 - 10 using \"while\" loop\n",
    "\n",
    "a = 1\n",
    "while a<=10:\n",
    "    print(a,end=\" \")\n",
    "    a = a+1\n",
    "print(\"\\nend loop...\")"
   ]
  },
  {
   "cell_type": "code",
   "execution_count": 5,
   "id": "ba699902",
   "metadata": {},
   "outputs": [
    {
     "name": "stdout",
     "output_type": "stream",
     "text": [
      "10\t3\t5\t6\t7\t8\t9\n"
     ]
    }
   ],
   "source": [
    "print(10,3,5,6,7,8,9,sep=\"\\t\")"
   ]
  },
  {
   "cell_type": "code",
   "execution_count": 6,
   "id": "9f36baa6",
   "metadata": {},
   "outputs": [
    {
     "name": "stdout",
     "output_type": "stream",
     "text": [
      "5 10 15 20 25 30 35 40 45 50 \n",
      "end loop...\n"
     ]
    }
   ],
   "source": [
    "#display series: 5 10 15 20 25 30 35 40 45 50 using \"while\" loop\n",
    "\n",
    "a = 5\n",
    "while a<=50:\n",
    "    print(a,end=\" \")\n",
    "    a = a+5\n",
    "print(\"\\nend loop...\")"
   ]
  },
  {
   "cell_type": "code",
   "execution_count": 7,
   "id": "ef6450b6",
   "metadata": {},
   "outputs": [
    {
     "name": "stdout",
     "output_type": "stream",
     "text": [
      "100 90 80 70 60 50 \n",
      "end loop...\n",
      "Addition: 97\n",
      "Welcome to RE\n"
     ]
    }
   ],
   "source": [
    "#display series: 100 90 80 70 60 50 using \"while\" loop\n",
    "\n",
    "a = 100\n",
    "while a>=50:\n",
    "    print(a,end=\" \")\n",
    "    a = a-10\n",
    "print(\"\\nend loop...\")\n",
    "x = 19\n",
    "y = 78\n",
    "print(\"Addition:\",x+y)\n",
    "print(\"Welcome to RE\")"
   ]
  },
  {
   "cell_type": "code",
   "execution_count": 8,
   "id": "178989d9",
   "metadata": {},
   "outputs": [
    {
     "name": "stdout",
     "output_type": "stream",
     "text": [
      "-100 -90 -80 -70 -60 -50 "
     ]
    }
   ],
   "source": [
    "#-100 -90 -80 -70 -60 -50\n",
    "\n",
    "x = -100\n",
    "while x<=-50:\n",
    "    print(x,end=\" \")\n",
    "    x = x+10"
   ]
  },
  {
   "cell_type": "code",
   "execution_count": 9,
   "id": "a365a4dc",
   "metadata": {},
   "outputs": [
    {
     "name": "stdout",
     "output_type": "stream",
     "text": [
      "11 13 15 17 19 "
     ]
    }
   ],
   "source": [
    "#display odd integers from 10-20 using \"while\" loop-> 11 13 15 17 19\n",
    "\n",
    "i = 11\n",
    "while i<=19:\n",
    "    print(i,end=\" \")\n",
    "    i = i+2\n"
   ]
  },
  {
   "cell_type": "code",
   "execution_count": 10,
   "id": "9c142fbc",
   "metadata": {},
   "outputs": [
    {
     "name": "stdout",
     "output_type": "stream",
     "text": [
      "1+2+3+4+5+6+7+8+9+10= 55\n"
     ]
    }
   ],
   "source": [
    "#sum of first 10 natural numbers -> 1+2+3+4+5+6+7+8+9+10\n",
    "\n",
    "s = 0\n",
    "i = 1\n",
    "while i<=10:\n",
    "    s = s+i\n",
    "    i = i+1\n",
    "print(\"1+2+3+4+5+6+7+8+9+10=\",s)"
   ]
  },
  {
   "cell_type": "code",
   "execution_count": 11,
   "id": "8e97e2f7",
   "metadata": {},
   "outputs": [
    {
     "name": "stdout",
     "output_type": "stream",
     "text": [
      "product: 120\n"
     ]
    }
   ],
   "source": [
    "#product of first 5 natural numbers using \"while\" loop -> 1*2*3*4*5\n",
    "\n",
    "p = 1\n",
    "i = 1\n",
    "while i<=5:\n",
    "    p = p*i\n",
    "    i = i+1\n",
    "print(\"product:\",p)"
   ]
  },
  {
   "cell_type": "markdown",
   "id": "01f57ea3",
   "metadata": {},
   "source": [
    "# for loop"
   ]
  },
  {
   "cell_type": "code",
   "execution_count": 12,
   "id": "b930fb0f",
   "metadata": {},
   "outputs": [
    {
     "name": "stdout",
     "output_type": "stream",
     "text": [
      "hello-World!!\n",
      "hello-World!!\n",
      "hello-World!!\n",
      "hello-World!!\n",
      "hello-World!!\n",
      "hello-World!!\n",
      "hello-World!!\n",
      "hello-World!!\n",
      "hello-World!!\n",
      "hello-World!!\n"
     ]
    }
   ],
   "source": [
    "#range() - used to generate sequence numbers\n",
    "#3 argumnets -> initialization,stop(stop value is excluded),incr/decr\n",
    "\n",
    "#display \"Hello-world!!\" for 10 times using \"for\" loop\n",
    "\n",
    "for i in range(1,11):\n",
    "    print(\"hello-World!!\")"
   ]
  },
  {
   "cell_type": "code",
   "execution_count": 13,
   "id": "37207065",
   "metadata": {},
   "outputs": [
    {
     "name": "stdout",
     "output_type": "stream",
     "text": [
      "1 2 3 4 5 6 7 8 9 10 "
     ]
    }
   ],
   "source": [
    "#display integers from 1 - 10 using \"for\" loop\n",
    "\n",
    "for i in range(1,11):\n",
    "    print(i,end=' ')"
   ]
  },
  {
   "cell_type": "code",
   "execution_count": 14,
   "id": "017c3e0e",
   "metadata": {},
   "outputs": [
    {
     "name": "stdout",
     "output_type": "stream",
     "text": [
      "0 5 10 15 20 25 30 35 40 45 50 "
     ]
    }
   ],
   "source": [
    "#display series: 0 5 10 15 20 25 30 35 40 45 50 using \"for\" loop\n",
    "\n",
    "for i in range(0,51,5):\n",
    "    print(i,end=\" \")"
   ]
  },
  {
   "cell_type": "code",
   "execution_count": 15,
   "id": "748edbc9",
   "metadata": {},
   "outputs": [
    {
     "name": "stdout",
     "output_type": "stream",
     "text": [
      "50 52 54 56 58 60 62 64 66 68 70 72 74 76 78 80 "
     ]
    }
   ],
   "source": [
    "#display even integers from 50-80 using \"for\" loop\n",
    "\n",
    "for i in range(50,81,2):\n",
    "    print(i,end=\" \")"
   ]
  },
  {
   "cell_type": "code",
   "execution_count": 16,
   "id": "d75608cf",
   "metadata": {},
   "outputs": [
    {
     "name": "stdout",
     "output_type": "stream",
     "text": [
      "sum: 55\n"
     ]
    }
   ],
   "source": [
    "#sum of first 10 natural numbers(1+2+3+4+5+6+7+8+9+10) using \"for\" loop\n",
    "\n",
    "s = 0\n",
    "for i in range(1,11):\n",
    "    s = s+i\n",
    "print(\"sum:\",s)"
   ]
  },
  {
   "cell_type": "code",
   "execution_count": 17,
   "id": "dd08d0f6",
   "metadata": {},
   "outputs": [
    {
     "name": "stdout",
     "output_type": "stream",
     "text": [
      "product: 945\n"
     ]
    }
   ],
   "source": [
    "#product of first 5 odd natural numbers using \"for\" loop -> 1*3*5*7*9\n",
    "\n",
    "p = 1\n",
    "for i in range(1,10,2):\n",
    "    p = p*i\n",
    "print(\"product:\",p)"
   ]
  },
  {
   "cell_type": "code",
   "execution_count": 18,
   "id": "5bfda071",
   "metadata": {},
   "outputs": [
    {
     "name": "stdout",
     "output_type": "stream",
     "text": [
      "['pavan', 'kiran', 89, 45]\n"
     ]
    }
   ],
   "source": [
    "l = [\"pavan\",\"kiran\",89,45]\n",
    "print(l)"
   ]
  },
  {
   "cell_type": "code",
   "execution_count": 19,
   "id": "d3a57c6b",
   "metadata": {},
   "outputs": [
    {
     "name": "stdout",
     "output_type": "stream",
     "text": [
      "[1, 2, 3, 4, 5, 6, 7, 8, 9, 10]\n"
     ]
    }
   ],
   "source": [
    "l1 = [1,2,3,4,5,6,7,8,9,10]\n",
    "print(l1)"
   ]
  },
  {
   "cell_type": "code",
   "execution_count": 20,
   "id": "ba7b9eff",
   "metadata": {},
   "outputs": [
    {
     "name": "stdout",
     "output_type": "stream",
     "text": [
      "(1, 6)\n"
     ]
    }
   ],
   "source": [
    "#range()\n",
    "\n",
    "x = tuple(range(1,11,5))\n",
    "print(x)"
   ]
  },
  {
   "cell_type": "markdown",
   "id": "964513d5",
   "metadata": {},
   "source": [
    "# Jump Statements"
   ]
  },
  {
   "cell_type": "code",
   "execution_count": 21,
   "id": "d08fb85c",
   "metadata": {},
   "outputs": [
    {
     "name": "stdout",
     "output_type": "stream",
     "text": [
      "1 2 3 4 5 6 \n",
      "end loop....\n"
     ]
    }
   ],
   "source": [
    "#break using \"while\" loop\n",
    "\n",
    "#Run from 1-10 and stop at 6\n",
    "\n",
    "i = 1\n",
    "while i<=10:\n",
    "    print(i,end=\" \")\n",
    "    if i == 6:\n",
    "        break\n",
    "    i = i+1\n",
    "print(\"\\nend loop....\")"
   ]
  },
  {
   "cell_type": "code",
   "execution_count": 22,
   "id": "369244bb",
   "metadata": {},
   "outputs": [
    {
     "name": "stdout",
     "output_type": "stream",
     "text": [
      "1 2 3 4 5 \n",
      "end loop...\n"
     ]
    }
   ],
   "source": [
    "#break using \"for\" loop\n",
    "\n",
    "#Run from 1-10 and stop at 5\n",
    "\n",
    "for i in range(1,11):\n",
    "    print(i,end=\" \")\n",
    "    if i == 5:\n",
    "        break\n",
    "print(\"\\nend loop...\")"
   ]
  },
  {
   "cell_type": "code",
   "execution_count": 23,
   "id": "50b18615",
   "metadata": {},
   "outputs": [
    {
     "name": "stdout",
     "output_type": "stream",
     "text": [
      "1 2 3 5 6 7 8 9 10 "
     ]
    }
   ],
   "source": [
    "#continue using \"while\" loop\n",
    "\n",
    "#Run from 1-10 and skip 4\n",
    "\n",
    "i = 1\n",
    "while i<=10:\n",
    "    if i == 4:\n",
    "        i = i+1\n",
    "        continue\n",
    "    print(i,end=\" \")\n",
    "    i = i+1"
   ]
  },
  {
   "cell_type": "code",
   "execution_count": 24,
   "id": "1c338ec2",
   "metadata": {},
   "outputs": [
    {
     "name": "stdout",
     "output_type": "stream",
     "text": [
      "1 2 3 5 6 7 8 9 10 "
     ]
    }
   ],
   "source": [
    "#continue using \"while\" loop\n",
    "\n",
    "#Run from 1-10 and skip 4\n",
    "\n",
    "i = 1\n",
    "while i<=10:\n",
    "    if i == 4:\n",
    "        i = i+1\n",
    "        continue\n",
    "    print(i,end=\" \")\n",
    "    i = i+1"
   ]
  },
  {
   "cell_type": "code",
   "execution_count": 25,
   "id": "7f496002",
   "metadata": {},
   "outputs": [
    {
     "name": "stdout",
     "output_type": "stream",
     "text": [
      "1 2 3 5 6 8 9 10 "
     ]
    }
   ],
   "source": [
    "#Run from 1-10 and skip 4 and 7\n",
    "\n",
    "i = 1\n",
    "while i<=10:\n",
    "    if i == 4 or i == 7:\n",
    "        i = i+1\n",
    "        continue\n",
    "    print(i,end=\" \")\n",
    "    i = i+1"
   ]
  },
  {
   "cell_type": "code",
   "execution_count": 26,
   "id": "4e266e8b",
   "metadata": {},
   "outputs": [
    {
     "name": "stdout",
     "output_type": "stream",
     "text": [
      "1 2 3 4 6 7 8 9 10 "
     ]
    }
   ],
   "source": [
    "#continue using \"for loop\n",
    "\n",
    "#Run from 1-10 and skip 5\n",
    "\n",
    "for i in range(1,11):\n",
    "    if i == 5:\n",
    "        continue\n",
    "    print(i,end=\" \")"
   ]
  },
  {
   "cell_type": "code",
   "execution_count": 27,
   "id": "f1527d1a",
   "metadata": {},
   "outputs": [
    {
     "name": "stdout",
     "output_type": "stream",
     "text": [
      "1 3 4 5 6 7 8 10 "
     ]
    }
   ],
   "source": [
    "#Run from 1-10 and skip 2 and 9\n",
    "\n",
    "for i in range(1,11):\n",
    "    if i == 2 or i == 9:\n",
    "        continue\n",
    "    print(i,end=\" \")"
   ]
  },
  {
   "cell_type": "code",
   "execution_count": 28,
   "id": "fe1b4af8",
   "metadata": {},
   "outputs": [
    {
     "name": "stdout",
     "output_type": "stream",
     "text": [
      "welcome\n",
      "end loop...\n"
     ]
    }
   ],
   "source": [
    "#pass\n",
    "\n",
    "print(\"welcome\")\n",
    "for i in range(1,11):\n",
    "    pass\n",
    "print(\"end loop...\")"
   ]
  },
  {
   "cell_type": "code",
   "execution_count": 29,
   "id": "a61ae210",
   "metadata": {},
   "outputs": [
    {
     "name": "stdout",
     "output_type": "stream",
     "text": [
      "end loop...\n"
     ]
    }
   ],
   "source": [
    "if \"a\" == \"A\":\n",
    "    pass\n",
    "    \n",
    "print(\"end loop...\")"
   ]
  },
  {
   "cell_type": "code",
   "execution_count": 30,
   "id": "b613ff7f",
   "metadata": {},
   "outputs": [],
   "source": [
    "#suite -> a group of individual stmts which make a single code block"
   ]
  },
  {
   "cell_type": "markdown",
   "id": "e663770d",
   "metadata": {},
   "source": [
    "# Table"
   ]
  },
  {
   "cell_type": "code",
   "execution_count": 32,
   "id": "c455eea8",
   "metadata": {},
   "outputs": [
    {
     "name": "stdout",
     "output_type": "stream",
     "text": [
      "enter n value for table: 4\n",
      "4 x 1 = 4\n",
      "4 x 2 = 8\n",
      "4 x 3 = 12\n",
      "4 x 4 = 16\n",
      "4 x 5 = 20\n",
      "4 x 6 = 24\n",
      "4 x 7 = 28\n",
      "4 x 8 = 32\n",
      "4 x 9 = 36\n",
      "4 x 10 = 40\n"
     ]
    }
   ],
   "source": [
    "#while\n",
    "\n",
    "n = int(input(\"enter n value for table: \"))\n",
    "i = 1\n",
    "while i<=10:\n",
    "    print(f\"{n} x {i} = {n*i}\")\n",
    "    i = i+1"
   ]
  },
  {
   "cell_type": "code",
   "execution_count": 33,
   "id": "0fe32c86",
   "metadata": {},
   "outputs": [
    {
     "name": "stdout",
     "output_type": "stream",
     "text": [
      "enter n value for table: 6\n",
      "6 x 1 = 6\n",
      "6 x 2 = 12\n",
      "6 x 3 = 18\n",
      "6 x 4 = 24\n",
      "6 x 5 = 30\n",
      "6 x 6 = 36\n",
      "6 x 7 = 42\n",
      "6 x 8 = 48\n",
      "6 x 9 = 54\n",
      "6 x 10 = 60\n"
     ]
    }
   ],
   "source": [
    "#for\n",
    "\n",
    "n = int(input(\"enter n value for table: \"))\n",
    "for i in range(1,11):\n",
    "     print(f\"{n} x {i} = {n*i}\")"
   ]
  },
  {
   "cell_type": "code",
   "execution_count": null,
   "id": "0a0f09e5",
   "metadata": {},
   "outputs": [],
   "source": []
  }
 ],
 "metadata": {
  "kernelspec": {
   "display_name": "Python 3 (ipykernel)",
   "language": "python",
   "name": "python3"
  },
  "language_info": {
   "codemirror_mode": {
    "name": "ipython",
    "version": 3
   },
   "file_extension": ".py",
   "mimetype": "text/x-python",
   "name": "python",
   "nbconvert_exporter": "python",
   "pygments_lexer": "ipython3",
   "version": "3.10.4"
  }
 },
 "nbformat": 4,
 "nbformat_minor": 5
}
